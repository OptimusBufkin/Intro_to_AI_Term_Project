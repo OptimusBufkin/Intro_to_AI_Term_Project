{
 "cells": [
  {
   "cell_type": "code",
   "execution_count": 26,
   "metadata": {},
   "outputs": [],
   "source": [
    "import imageio\n",
    "import json\n",
    "from os import listdir"
   ]
  },
  {
   "cell_type": "code",
   "execution_count": 24,
   "metadata": {},
   "outputs": [],
   "source": [
    "files_path = \"C:/Users/Kio/Desktop/INTRO_TO_AI/PROJECT/data/MineRLNavigateDense-v0\"\n",
    "video_files_list = listdir(files_path)"
   ]
  },
  {
   "cell_type": "code",
   "execution_count": 25,
   "metadata": {},
   "outputs": [
    {
     "data": {
      "text/plain": [
       "['v3_absolute_grape_changeling-12_2293-4124',\n",
       " 'v3_absolute_grape_changeling-47_826-1734',\n",
       " 'v3_aggravating_artichoke_harpy-1_5264-6403',\n",
       " 'v3_agonizing_kale_tree_nymph-7_103829-104999',\n",
       " 'v3_agonizing_kale_tree_nymph-7_105028-106263',\n",
       " 'v3_agonizing_kale_tree_nymph-7_172149-172754',\n",
       " 'v3_agonizing_kale_tree_nymph-7_172787-173996',\n",
       " 'v3_agonizing_kale_tree_nymph-7_176387-177102',\n",
       " 'v3_agonizing_kale_tree_nymph-7_177132-178231',\n",
       " 'v3_agonizing_kale_tree_nymph-7_510-1475',\n",
       " 'v3_alarming_arugula_medusa-11_357-1749',\n",
       " 'v3_anxious_lemon_lake_spirit-1_77691-78929',\n",
       " 'v3_anxious_lemon_lake_spirit-1_78982-82169',\n",
       " 'v3_anxious_lemon_lake_spirit-1_82220-83610',\n",
       " 'v3_anxious_lemon_lake_spirit-1_83638-84821',\n",
       " 'v3_anxious_lemon_lake_spirit-1_84846-86006',\n",
       " 'v3_anxious_lemon_lake_spirit-1_86123-87363',\n",
       " 'v3_bogus_guava_djinn-22_1599-3217',\n",
       " 'v3_bogus_guava_djinn-22_3378-4598',\n",
       " 'v3_bogus_guava_djinn-22_4650-5658',\n",
       " 'v3_bogus_guava_djinn-22_499-1445',\n",
       " 'v3_burdensome_durian_polyphemus-10_10316-11807',\n",
       " 'v3_burdensome_durian_polyphemus-10_11848-13587',\n",
       " 'v3_burdensome_durian_polyphemus-10_13621-14807',\n",
       " 'v3_burdensome_durian_polyphemus-10_14871-16020',\n",
       " 'v3_burdensome_durian_polyphemus-10_1527-2683',\n",
       " 'v3_burdensome_durian_polyphemus-10_246-1495',\n",
       " 'v3_burdensome_durian_polyphemus-10_2714-3431',\n",
       " 'v3_burdensome_durian_polyphemus-10_3468-4624',\n",
       " 'v3_burdensome_durian_polyphemus-10_5344-6037',\n",
       " 'v3_burdensome_durian_polyphemus-10_6086-6860',\n",
       " 'v3_burdensome_durian_polyphemus-10_6879-7746',\n",
       " 'v3_burdensome_durian_polyphemus-10_7777-9560',\n",
       " 'v3_burdensome_durian_polyphemus-10_9598-10272',\n",
       " 'v3_calculating_fava_bean_siren-1_14111-15080',\n",
       " 'v3_calculating_fava_bean_siren-3_155-844',\n",
       " 'v3_calculating_fava_bean_siren-3_1819-3028',\n",
       " 'v3_calculating_fava_bean_siren-3_891-1801',\n",
       " 'v3_cheery_acorn_squash_spirit-1_2796-4367',\n",
       " 'v3_conscious_tangerine_rain_bird-41_2328-3848',\n",
       " 'v3_courageous_rutabaga_nessie-1_1530-2654',\n",
       " 'v3_courageous_rutabaga_nessie-1_342-1476',\n",
       " 'v3_courageous_rutabaga_nessie-20_130194-136286',\n",
       " 'v3_courageous_rutabaga_nessie-20_136363-137287',\n",
       " 'v3_cute_breadfruit_spirit-2_11526-12701',\n",
       " 'v3_cute_breadfruit_spirit-8_2216-3402',\n",
       " 'v3_equal_olive_chimera-16_898-2932',\n",
       " 'v3_equal_olive_chimera-3_1936-3073',\n",
       " 'v3_equal_olive_chimera-3_547-1809',\n",
       " 'v3_esteemed_melon_hydra-15_170747-171815',\n",
       " 'v3_excellent_mango_beast-1_1507-2960',\n",
       " 'v3_excellent_pluot_behemoth-1_4004-4607',\n",
       " 'v3_excellent_pluot_behemoth-1_5133-6065',\n",
       " 'v3_excellent_pluot_behemoth-4_1425-2362',\n",
       " 'v3_excellent_pluot_behemoth-4_2419-3423',\n",
       " 'v3_excellent_pluot_behemoth-4_3461-4804',\n",
       " 'v3_excellent_pluot_behemoth-4_396-1357',\n",
       " 'v3_excellent_pluot_behemoth-4_4822-5855',\n",
       " 'v3_excellent_pluot_behemoth-4_5957-6812',\n",
       " 'v3_excellent_pluot_behemoth-4_6902-7755',\n",
       " 'v3_excellent_pluot_behemoth-4_7823-8759',\n",
       " 'v3_flustered_tuber_doppelganger-1_151805-152931',\n",
       " 'v3_flustered_tuber_doppelganger-1_255-1452',\n",
       " 'v3_frozen_date_godzilla-7_5492-7813',\n",
       " 'v3_inferior_parsnip_banshee-12_1371-2242',\n",
       " 'v3_inferior_parsnip_banshee-12_244-1283',\n",
       " 'v3_juvenile_apple_angel-12_21738-23208',\n",
       " 'v3_juvenile_apple_angel-30_393276-393975',\n",
       " 'v3_juvenile_apple_angel-30_393995-394872',\n",
       " 'v3_juvenile_apple_angel-41_122274-123769',\n",
       " 'v3_juvenile_apple_angel-41_16235-17454',\n",
       " 'v3_juvenile_apple_angel-41_30277-31138',\n",
       " 'v3_key_nectarine_spirit-3_10735-11475',\n",
       " 'v3_key_nectarine_spirit-3_11529-12361',\n",
       " 'v3_key_nectarine_spirit-3_12401-13719',\n",
       " 'v3_key_nectarine_spirit-3_1935-2475',\n",
       " 'v3_key_nectarine_spirit-3_2491-3217',\n",
       " 'v3_key_nectarine_spirit-3_3238-4450',\n",
       " 'v3_key_nectarine_spirit-3_4485-5596',\n",
       " 'v3_key_nectarine_spirit-3_5617-9510',\n",
       " 'v3_key_nectarine_spirit-3_9542-10705',\n",
       " 'v3_kindly_lemon_mummy-17_325-1747',\n",
       " 'v3_kindly_lemon_mummy-2_58846-59719',\n",
       " 'v3_kindly_lemon_mummy-2_59830-60262',\n",
       " 'v3_kindly_lemon_mummy-2_60335-60950',\n",
       " 'v3_other_pomegranite_orc-11_11506-12323',\n",
       " 'v3_quiet_mandarin_orange_ghoul-10_1433-2721',\n",
       " 'v3_quiet_mandarin_orange_ghoul-10_2774-4477',\n",
       " 'v3_quiet_mandarin_orange_ghoul-10_294-1385',\n",
       " 'v3_quiet_mandarin_orange_ghoul-10_4530-5984',\n",
       " 'v3_quiet_mandarin_orange_ghoul-10_6120-7304',\n",
       " 'v3_ready_wasabi_orc-14_10541-11786',\n",
       " 'v3_ready_wasabi_orc-14_4191-5894',\n",
       " 'v3_ready_wasabi_orc-14_6199-8086',\n",
       " 'v3_ready_wasabi_orc-14_8181-9050',\n",
       " 'v3_ready_wasabi_orc-14_9146-10338',\n",
       " 'v3_red_guava_merman-2_16950-18249',\n",
       " 'v3_remorseful_current_savage-15_3383-4472',\n",
       " 'v3_remorseful_current_savage-15_4966-5969',\n",
       " 'v3_remorseful_current_savage-15_6595-7332',\n",
       " 'v3_remorseful_current_savage-15_7800-8721',\n",
       " 'v3_remorseful_current_savage-1_1473-2398',\n",
       " 'v3_remorseful_current_savage-1_436-1300',\n",
       " 'v3_right_basil_dragon-15_2181-2842',\n",
       " 'v3_right_basil_dragon-15_281-899',\n",
       " 'v3_right_basil_dragon-15_2938-4230',\n",
       " 'v3_right_basil_dragon-15_4328-4804',\n",
       " 'v3_right_basil_dragon-15_4840-5311',\n",
       " 'v3_right_basil_dragon-15_6324-6873',\n",
       " 'v3_right_basil_dragon-15_947-2142',\n",
       " 'v3_right_basil_dragon-1_2227-3863',\n",
       " 'v3_right_basil_dragon-1_226-921',\n",
       " 'v3_right_basil_dragon-1_3898-5086',\n",
       " 'v3_right_basil_dragon-1_5110-6723',\n",
       " 'v3_right_basil_dragon-1_942-2192',\n",
       " 'v3_rigid_mustard_greens_monster-25_2014-3040',\n",
       " 'v3_rigid_mustard_greens_monster-25_57713-58619',\n",
       " 'v3_rigid_mustard_greens_monster-2_10333-12218',\n",
       " 'v3_rigid_mustard_greens_monster-2_12565-13338',\n",
       " 'v3_rigid_mustard_greens_monster-2_13397-15867',\n",
       " 'v3_rigid_mustard_greens_monster-2_15909-18088',\n",
       " 'v3_rigid_mustard_greens_monster-2_18919-20141',\n",
       " 'v3_rigid_mustard_greens_monster-2_20181-21252',\n",
       " 'v3_rigid_mustard_greens_monster-2_21333-22531',\n",
       " 'v3_rigid_mustard_greens_monster-2_22556-26491',\n",
       " 'v3_rigid_mustard_greens_monster-2_26541-27899',\n",
       " 'v3_self_reliant_fig_doppelganger-1_27576-33656',\n",
       " 'v3_self_reliant_fig_doppelganger-1_905-6957',\n",
       " 'v3_splendid_brussels_sprout_pegasus-5_42459-43158',\n",
       " 'v3_splendid_brussels_sprout_pegasus-5_43180-44316',\n",
       " 'v3_splendid_brussels_sprout_pegasus-5_44341-45515',\n",
       " 'v3_sticky_chick_pea_gnome-22_128614-133703',\n",
       " 'v3_subtle_iceberg_lettuce_nymph-2_31629-32910',\n",
       " 'v3_subtle_iceberg_lettuce_nymph-3_101374-102493',\n",
       " 'v3_subtle_iceberg_lettuce_nymph-3_103987-104846',\n",
       " 'v3_subtle_iceberg_lettuce_nymph-3_104874-106000',\n",
       " 'v3_subtle_iceberg_lettuce_nymph-3_106022-106982',\n",
       " 'v3_subtle_iceberg_lettuce_nymph-3_107011-107750',\n",
       " 'v3_subtle_iceberg_lettuce_nymph-3_107778-108636',\n",
       " 'v3_subtle_iceberg_lettuce_nymph-3_108695-109870',\n",
       " 'v3_subtle_iceberg_lettuce_nymph-3_109929-111236',\n",
       " 'v3_subtle_iceberg_lettuce_nymph-3_111263-112388',\n",
       " 'v3_subtle_iceberg_lettuce_nymph-3_112419-113275',\n",
       " 'v3_subtle_iceberg_lettuce_nymph-3_2121-6976',\n",
       " 'v3_subtle_iceberg_lettuce_nymph-3_32880-33485',\n",
       " 'v3_subtle_iceberg_lettuce_nymph-3_33569-34551',\n",
       " 'v3_subtle_iceberg_lettuce_nymph-3_34583-35276',\n",
       " 'v3_subtle_iceberg_lettuce_nymph-3_35298-35989',\n",
       " 'v3_subtle_iceberg_lettuce_nymph-3_36017-36573',\n",
       " 'v3_subtle_iceberg_lettuce_nymph-3_70251-71073',\n",
       " 'v3_subtle_iceberg_lettuce_nymph-3_71601-72237',\n",
       " 'v3_subtle_iceberg_lettuce_nymph-3_72513-73698',\n",
       " 'v3_subtle_iceberg_lettuce_nymph-3_73739-74475',\n",
       " 'v3_subtle_iceberg_lettuce_nymph-3_74532-75841',\n",
       " 'v3_subtle_iceberg_lettuce_nymph-3_75900-77074',\n",
       " 'v3_subtle_iceberg_lettuce_nymph-3_77242-78488',\n",
       " 'v3_subtle_iceberg_lettuce_nymph-3_78513-79688',\n",
       " 'v3_subtle_iceberg_lettuce_nymph-3_79719-80709',\n",
       " 'v3_subtle_iceberg_lettuce_nymph-3_80817-81863',\n",
       " 'v3_subtle_iceberg_lettuce_nymph-7_4364-6807',\n",
       " 'v3_tempting_capers_shapeshifter-3_1413-2063',\n",
       " 'v3_tempting_capers_shapeshifter-3_2080-3219',\n",
       " 'v3_tempting_capers_shapeshifter-3_3285-4380',\n",
       " 'v3_tempting_capers_shapeshifter-3_4424-5570',\n",
       " 'v3_tempting_capers_shapeshifter-3_5590-6638',\n",
       " 'v3_tempting_capers_shapeshifter-3_6665-7416',\n",
       " 'v3_tempting_capers_shapeshifter-3_7436-8526',\n",
       " 'v3_tempting_capers_shapeshifter-3_751-1395',\n",
       " 'v3_tempting_capers_shapeshifter-3_8546-9181',\n",
       " 'v3_tempting_capers_shapeshifter-3_9200-15270',\n",
       " 'v3_unfit_succotash_werewolf-1_12398-13210',\n",
       " 'v3_unselfish_blood_orange_savage-15_8336-9621',\n",
       " 'v3_unselfish_blood_orange_savage-17_43513-49591',\n",
       " 'v3_unselfish_blood_orange_savage-17_49884-50513',\n",
       " 'v3_unselfish_blood_orange_savage-17_50585-51325',\n",
       " 'v3_unselfish_blood_orange_savage-17_51374-52585',\n",
       " 'v3_unselfish_blood_orange_savage-17_52613-53827',\n",
       " 'v3_unselfish_blood_orange_savage-17_53881-54674',\n",
       " 'v3_unselfish_blood_orange_savage-17_54708-55891',\n",
       " 'v3_unselfish_blood_orange_savage-17_55936-56934',\n",
       " 'v3_unselfish_blood_orange_savage-17_56975-57624',\n",
       " 'v3_unselfish_blood_orange_savage-17_57671-58355',\n",
       " 'v3_unselfish_blood_orange_savage-17_58384-59577',\n",
       " 'v3_villainous_black_eyed_peas_loch_ness_monster-1_24260-24873',\n",
       " 'v3_villainous_black_eyed_peas_loch_ness_monster-2_48715-49908',\n",
       " 'v3_villainous_black_eyed_peas_loch_ness_monster-2_76327-77788',\n",
       " 'v3_wary_salsa_werewolf-2_1871-2484',\n",
       " 'v3_wary_salsa_werewolf-2_23189-23825',\n",
       " 'v3_wary_salsa_werewolf-2_2823-3369',\n",
       " 'v3_wary_salsa_werewolf-2_3415-4065',\n",
       " 'v3_wary_salsa_werewolf-2_37739-38920',\n",
       " 'v3_wary_salsa_werewolf-2_776-1831',\n",
       " 'v3_wary_salsa_werewolf-3_39584-41491']"
      ]
     },
     "execution_count": 25,
     "metadata": {},
     "output_type": "execute_result"
    }
   ],
   "source": [
    "video_files_list"
   ]
  },
  {
   "cell_type": "code",
   "execution_count": 35,
   "metadata": {},
   "outputs": [],
   "source": [
    "#dataset containg video frames of each recording\n",
    "video_set = []\n",
    "#dataset containing meatadata for each video, in the same order as the video_set (ie metadata_set[0] is the meatadata for video_set[0])\n",
    "metadata_set =[]\n",
    "for file in video_files_list:\n",
    "    reader = imageio.get_reader(files_path + \"/\" + file + \"/recording.mp4\")\n",
    "    f = open(files_path + \"/\" + file + \"/metadata.json\")\n",
    "    metadata = json.load(f)\n",
    "    metadata_set.append(metadata)\n",
    "    frame_groups = []\n",
    "    for i,im in enumerate(reader):\n",
    "        frame_groups.append(im)\n",
    "    video_set.append(frame_groups)"
   ]
  },
  {
   "cell_type": "code",
   "execution_count": 50,
   "metadata": {},
   "outputs": [
    {
     "data": {
      "text/plain": [
       "193"
      ]
     },
     "execution_count": 50,
     "metadata": {},
     "output_type": "execute_result"
    }
   ],
   "source": [
    "#Number of videos\n",
    "len(metadata_set)\n",
    "len(video_set)"
   ]
  },
  {
   "cell_type": "code",
   "execution_count": 51,
   "metadata": {},
   "outputs": [
    {
     "data": {
      "text/plain": [
       "1833"
      ]
     },
     "execution_count": 51,
     "metadata": {},
     "output_type": "execute_result"
    }
   ],
   "source": [
    "#Number of frames for a certain video\n",
    "len(video_set[0])\n",
    "metadata_set[0]['true_video_frame_count']"
   ]
  },
  {
   "cell_type": "code",
   "execution_count": 54,
   "metadata": {},
   "outputs": [
    {
     "data": {
      "text/plain": [
       "64"
      ]
     },
     "execution_count": 54,
     "metadata": {},
     "output_type": "execute_result"
    }
   ],
   "source": [
    "#Number of RGB pixels in a frame\n",
    "len(video_set[0][0])"
   ]
  }
 ],
 "metadata": {
  "kernelspec": {
   "display_name": "Python 3",
   "language": "python",
   "name": "python3"
  },
  "language_info": {
   "codemirror_mode": {
    "name": "ipython",
    "version": 3
   },
   "file_extension": ".py",
   "mimetype": "text/x-python",
   "name": "python",
   "nbconvert_exporter": "python",
   "pygments_lexer": "ipython3",
   "version": "3.7.7"
  }
 },
 "nbformat": 4,
 "nbformat_minor": 4
}
